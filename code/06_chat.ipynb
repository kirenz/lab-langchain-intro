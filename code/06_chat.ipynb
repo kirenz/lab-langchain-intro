{
    "cells": [
        {
            "cell_type": "markdown",
            "metadata": {},
            "source": [
                "# Chat\n",
                "\n",
                "Learn how to track and select pertinent information from conversations and data sources, as you build your own chatbot using LangChain.\n",
                "\n",
                "# Setup\n",
                "\n",
                "## Python {.smaller}\n"
            ]
        },
        {
            "cell_type": "code",
            "metadata": {},
            "source": [
                "import param\n",
                "import panel as pn\n",
                "from langchain.document_loaders import PyPDFLoader\n",
                "from langchain.chains import RetrievalQA,  ConversationalRetrievalChain\n",
                "from langchain.document_loaders import TextLoader\n",
                "from langchain.vectorstores import DocArrayInMemorySearch\n",
                "from langchain.text_splitter import CharacterTextSplitter, RecursiveCharacterTextSplitter\n",
                "from langchain.chains import ConversationalRetrievalChain\n",
                "from langchain.memory import ConversationBufferMemory\n",
                "from langchain.chains import RetrievalQA\n",
                "from langchain.prompts import PromptTemplate\n",
                "from langchain.chat_models import ChatOpenAI\n",
                "from langchain.embeddings.openai import OpenAIEmbeddings\n",
                "from langchain.vectorstores import Chroma\n",
                "import datetime\n",
                "from dotenv import load_dotenv, find_dotenv\n",
                "import panel as pn  # GUI\n",
                "import os\n",
                "import openai\n",
                "\n",
                "# import sys\n",
                "# sys.path.append('../..')\n",
                "\n",
                "pn.extension()\n",
                "\n",
                "_ = load_dotenv(find_dotenv())  # read local .env file\n",
                "\n",
                "openai.api_key = os.environ['OPENAI_API_KEY']"
            ],
            "execution_count": null,
            "outputs": []
        },
        {
            "cell_type": "markdown",
            "metadata": {},
            "source": [
                "## LangChain plus platform {.smaller}\n",
                "\n",
                "- If you wish to experiment on `LangChain plus platform`:\n",
                "  - Go to [langchain plus platform](https://www.langchain.plus/) and sign up\n",
                "  - Create an api key from your account's settings\n",
                "   - Use this api key in the code below \n",
                "\n",
                ""
            ]
        },
        {
            "cell_type": "code",
            "metadata": {
                "height": 81,
                "tags": []
            },
            "source": [
                "# import os\n",
                "# os.environ[\"LANGCHAIN_TRACING_V2\"] = \"true\"\n",
                "# os.environ[\"LANGCHAIN_ENDPOINT\"] = \"https://api.langchain.plus\"\n",
                "# os.environ[\"LANGCHAIN_API_KEY\"] = \"...\""
            ],
            "execution_count": null,
            "outputs": []
        },
        {
            "cell_type": "markdown",
            "metadata": {},
            "source": [
                "# Chat System\n",
                "\n",
                "## Vector Database"
            ]
        },
        {
            "cell_type": "code",
            "metadata": {},
            "source": [
                "persist_directory = '../docs/chroma/'\n",
                "embedding = OpenAIEmbeddings()\n",
                "vectordb = Chroma(persist_directory=persist_directory,\n",
                "                  embedding_function=embedding)"
            ],
            "execution_count": null,
            "outputs": []
        },
        {
            "cell_type": "markdown",
            "metadata": {},
            "source": [
                "## Question and similarity search"
            ]
        },
        {
            "cell_type": "code",
            "metadata": {},
            "source": [
                "question = \"What are major topics for this class?\"\n",
                "docs = vectordb.similarity_search(question, k=3)\n",
                "len(docs)"
            ],
            "execution_count": null,
            "outputs": []
        },
        {
            "cell_type": "markdown",
            "metadata": {},
            "source": [
                "- 3\n",
                "\n",
                "## OpenAI model"
            ]
        },
        {
            "cell_type": "code",
            "metadata": {},
            "source": [
                "llm_name = \"gpt-3.5-turbo\"\n",
                "\n",
                "llm = ChatOpenAI(model_name=llm_name, temperature=0)"
            ],
            "execution_count": null,
            "outputs": []
        },
        {
            "cell_type": "code",
            "metadata": {},
            "source": [
                "llm.predict(\"Hello world!\")"
            ],
            "execution_count": null,
            "outputs": []
        },
        {
            "cell_type": "markdown",
            "metadata": {},
            "source": [
                "- 'Hello! How can I assist you today?'\n",
                "\n",
                "## Prompt template"
            ]
        },
        {
            "cell_type": "code",
            "metadata": {},
            "source": [
                "template = \"\"\"Use the following pieces of context to answer the question at the end. If you don't know the answer, just say that you don't know, don't try to make up an answer. Use three sentences maximum. Keep the answer as concise as possible. Always say \"thanks for asking!\" at the end of the answer. \n",
                "{context}\n",
                "Question: {question}\n",
                "Helpful Answer:\"\"\"\n",
                "QA_CHAIN_PROMPT = PromptTemplate(\n",
                "    input_variables=[\"context\", \"question\"], template=template,)"
            ],
            "execution_count": null,
            "outputs": []
        },
        {
            "cell_type": "markdown",
            "metadata": {},
            "source": [
                "## Run chain"
            ]
        },
        {
            "cell_type": "code",
            "metadata": {},
            "source": [
                "question = \"Is probability a class topic?\"\n",
                "\n",
                "qa_chain = RetrievalQA.from_chain_type(llm,\n",
                "                                       retriever=vectordb.as_retriever(),\n",
                "                                       return_source_documents=True,\n",
                "                                       chain_type_kwargs={\"prompt\": QA_CHAIN_PROMPT})\n",
                "\n",
                "\n",
                "result = qa_chain({\"query\": question})\n",
                "\n",
                "result[\"result\"]"
            ],
            "execution_count": null,
            "outputs": []
        },
        {
            "cell_type": "markdown",
            "metadata": {},
            "source": [
                "- 'Yes, probability is a class topic. Thanks for asking!'\n",
                "\n",
                "# Memory\n",
                "\n",
                "## ConversationBufferMemory"
            ]
        },
        {
            "cell_type": "code",
            "metadata": {},
            "source": [
                "memory = ConversationBufferMemory(\n",
                "    memory_key=\"chat_history\",\n",
                "    return_messages=True\n",
                ")"
            ],
            "execution_count": null,
            "outputs": []
        },
        {
            "cell_type": "markdown",
            "metadata": {},
            "source": [
                "## ConversationalRetrievalChain"
            ]
        },
        {
            "cell_type": "code",
            "metadata": {},
            "source": [
                "retriever = vectordb.as_retriever()"
            ],
            "execution_count": null,
            "outputs": []
        },
        {
            "cell_type": "markdown",
            "metadata": {},
            "source": [
                ""
            ]
        },
        {
            "cell_type": "code",
            "metadata": {},
            "source": [
                "qa = ConversationalRetrievalChain.from_llm(\n",
                "    llm,\n",
                "    retriever=retriever,\n",
                "    memory=memory\n",
                ")"
            ],
            "execution_count": null,
            "outputs": []
        },
        {
            "cell_type": "markdown",
            "metadata": {},
            "source": [
                "## Question and result"
            ]
        },
        {
            "cell_type": "code",
            "metadata": {},
            "source": [
                "question = \"Is probability a class topic?\"\n",
                "result = qa({\"question\": question})"
            ],
            "execution_count": null,
            "outputs": []
        },
        {
            "cell_type": "markdown",
            "metadata": {},
            "source": [
                ""
            ]
        },
        {
            "cell_type": "code",
            "metadata": {},
            "source": [
                "result['answer']"
            ],
            "execution_count": null,
            "outputs": []
        },
        {
            "cell_type": "markdown",
            "metadata": {},
            "source": [
                "- 'Yes, probability is a topic that will be covered in this class. The instructor assumes familiarity with basic probability and statistics.'\n",
                "\n",
                "## Second question {.smaller}"
            ]
        },
        {
            "cell_type": "code",
            "metadata": {},
            "source": [
                "question = \"why are those prerequesites needed?\"\n",
                "result = qa({\"question\": question})"
            ],
            "execution_count": null,
            "outputs": []
        },
        {
            "cell_type": "code",
            "metadata": {},
            "source": [
                "result['answer']"
            ],
            "execution_count": null,
            "outputs": []
        },
        {
            "cell_type": "markdown",
            "metadata": {},
            "source": [
                "- 'Familiarity with basic probability and statistics is needed as prerequisites because the course will involve concepts and techniques from these fields. The instructor assumes that students already know what random variables, expectation, variance, and probability distributions are. This knowledge is necessary to understand and apply the machine learning algorithms and models that will be taught in the course. Additionally, some of the material covered in the course may require a refresher on probability and statistics, so the discussion sections will provide an opportunity to review these concepts.'\n",
                "\n",
                "# Chatbot for Your Documents\n",
                "\n",
                "Create a chatbot that works on your documents\n",
                "\n",
                "## Helper function: load_db {.smaller}"
            ]
        },
        {
            "cell_type": "code",
            "metadata": {},
            "source": [
                "def load_db(file, chain_type, k):\n",
                "    # load documents\n",
                "    loader = PyPDFLoader(file)\n",
                "    documents = loader.load()\n",
                "    # split documents\n",
                "    text_splitter = RecursiveCharacterTextSplitter(\n",
                "        chunk_size=1000, chunk_overlap=150)\n",
                "    docs = text_splitter.split_documents(documents)\n",
                "    # define embedding\n",
                "    embeddings = OpenAIEmbeddings()\n",
                "    # create vector database from data\n",
                "    db = DocArrayInMemorySearch.from_documents(docs, embeddings)\n",
                "    # define retriever\n",
                "    retriever = db.as_retriever(\n",
                "        search_type=\"similarity\", search_kwargs={\"k\": k})\n",
                "    # create a chatbot chain. Memory is managed externally.\n",
                "    qa = ConversationalRetrievalChain.from_llm(\n",
                "        llm=ChatOpenAI(model_name=llm_name, temperature=0),\n",
                "        chain_type=chain_type,\n",
                "        retriever=retriever,\n",
                "        return_source_documents=True,\n",
                "        return_generated_question=True,\n",
                "    )\n",
                "    return qa"
            ],
            "execution_count": null,
            "outputs": []
        },
        {
            "cell_type": "markdown",
            "metadata": {},
            "source": [
                "## Helper function: cbfs {.smaller}"
            ]
        },
        {
            "cell_type": "code",
            "metadata": {},
            "source": [
                "class cbfs(param.Parameterized):\n",
                "    chat_history = param.List([])\n",
                "    answer = param.String(\"\")\n",
                "    db_query = param.String(\"\")\n",
                "    db_response = param.List([])\n",
                "\n",
                "    def __init__(self,  **params):\n",
                "        super(cbfs, self).__init__(**params)\n",
                "        self.panels = []\n",
                "        self.loaded_file = \"../docs/cs229_lectures/MachineLearning-Lecture01.pdf\"\n",
                "        self.qa = load_db(self.loaded_file, \"stuff\", 4)\n",
                "\n",
                "    def call_load_db(self, count):\n",
                "        if count == 0 or file_input.value is None:  # init or no file specified :\n",
                "            return pn.pane.Markdown(f\"Loaded File: {self.loaded_file}\")\n",
                "        else:\n",
                "            file_input.save(\"temp.pdf\")  # local copy\n",
                "            self.loaded_file = file_input.filename\n",
                "            button_load.button_style = \"outline\"\n",
                "            self.qa = load_db(\"temp.pdf\", \"stuff\", 4)\n",
                "            button_load.button_style = \"solid\"\n",
                "        self.clr_history()\n",
                "        return pn.pane.Markdown(f\"Loaded File: {self.loaded_file}\")\n",
                "\n",
                "    def convchain(self, query):\n",
                "        if not query:\n",
                "            return pn.WidgetBox(pn.Row('User:', pn.pane.Markdown(\"\", width=600)), scroll=True)\n",
                "        result = self.qa(\n",
                "            {\"question\": query, \"chat_history\": self.chat_history})\n",
                "        self.chat_history.extend([(query, result[\"answer\"])])\n",
                "        self.db_query = result[\"generated_question\"]\n",
                "        self.db_response = result[\"source_documents\"]\n",
                "        self.answer = result['answer']\n",
                "        self.panels.extend([\n",
                "            pn.Row('User:', pn.pane.Markdown(query, width=600)),\n",
                "            pn.Row('ChatBot:', pn.pane.Markdown(self.answer,\n",
                "                   width=600, style={'background-color': '#F6F6F6'}))\n",
                "        ])\n",
                "        inp.value = ''  # clears loading indicator when cleared\n",
                "        return pn.WidgetBox(*self.panels, scroll=True)\n",
                "\n",
                "    @param.depends('db_query ', )\n",
                "    def get_lquest(self):\n",
                "        if not self.db_query:\n",
                "            return pn.Column(\n",
                "                pn.Row(pn.pane.Markdown(f\"Last question to DB:\",\n",
                "                       styles={'background-color': '#F6F6F6'})),\n",
                "                pn.Row(pn.pane.Str(\"no DB accesses so far\"))\n",
                "            )\n",
                "        return pn.Column(\n",
                "            pn.Row(pn.pane.Markdown(f\"DB query:\", styles={\n",
                "                   'background-color': '#F6F6F6'})),\n",
                "            pn.pane.Str(self.db_query)\n",
                "        )\n",
                "\n",
                "    @param.depends('db_response', )\n",
                "    def get_sources(self):\n",
                "        if not self.db_response:\n",
                "            return\n",
                "        rlist = [pn.Row(pn.pane.Markdown(f\"Result of DB lookup:\",\n",
                "                        styles={'background-color': '#F6F6F6'}))]\n",
                "        for doc in self.db_response:\n",
                "            rlist.append(pn.Row(pn.pane.Str(doc)))\n",
                "        return pn.WidgetBox(*rlist, width=600, scroll=True)\n",
                "\n",
                "    @param.depends('convchain', 'clr_history')\n",
                "    def get_chats(self):\n",
                "        if not self.chat_history:\n",
                "            return pn.WidgetBox(pn.Row(pn.pane.Str(\"No History Yet\")), width=600, scroll=True)\n",
                "        rlist = [pn.Row(pn.pane.Markdown(\n",
                "            f\"Current Chat History variable\", styles={'background-color': '#F6F6F6'}))]\n",
                "        for exchange in self.chat_history:\n",
                "            rlist.append(pn.Row(pn.pane.Str(exchange)))\n",
                "        return pn.WidgetBox(*rlist, width=600, scroll=True)\n",
                "\n",
                "    def clr_history(self, count=0):\n",
                "        self.chat_history = []\n",
                "        return\n"
            ],
            "execution_count": null,
            "outputs": []
        },
        {
            "cell_type": "markdown",
            "metadata": {},
            "source": [
                "## Create Chatbot {.smaller}"
            ]
        },
        {
            "cell_type": "code",
            "metadata": {},
            "source": [
                "cb = cbfs()\n",
                "\n",
                "file_input = pn.widgets.FileInput(accept='.pdf')\n",
                "button_load = pn.widgets.Button(name=\"Load DB\", button_type='primary')\n",
                "button_clearhistory = pn.widgets.Button(\n",
                "    name=\"Clear History\", button_type='warning')\n",
                "button_clearhistory.on_click(cb.clr_history)\n",
                "inp = pn.widgets.TextInput(placeholder='Enter text here…')\n",
                "\n",
                "bound_button_load = pn.bind(cb.call_load_db, button_load.param.clicks)\n",
                "conversation = pn.bind(cb.convchain, inp)\n",
                "\n",
                "jpg_pane = pn.pane.Image('../imges/convchain.png')\n",
                "\n",
                "tab1 = pn.Column(\n",
                "    pn.Row(inp),\n",
                "    pn.layout.Divider(),\n",
                "    pn.panel(conversation,  loading_indicator=True, height=300),\n",
                "    pn.layout.Divider(),\n",
                ")\n",
                "tab2 = pn.Column(\n",
                "    pn.panel(cb.get_lquest),\n",
                "    pn.layout.Divider(),\n",
                "    pn.panel(cb.get_sources),\n",
                ")\n",
                "tab3 = pn.Column(\n",
                "    pn.panel(cb.get_chats),\n",
                "    pn.layout.Divider(),\n",
                ")\n",
                "tab4 = pn.Column(\n",
                "    pn.Row(file_input, button_load, bound_button_load),\n",
                "    pn.Row(button_clearhistory, pn.pane.Markdown(\n",
                "        \"Clears chat history. Can use to start a new topic\")),\n",
                "    pn.layout.Divider(),\n",
                "    pn.Row(jpg_pane.clone(width=400))\n",
                ")\n",
                "dashboard = pn.Column(\n",
                "    pn.Row(pn.pane.Markdown('# ChatWithYourData_Bot')),\n",
                "    pn.Tabs(('Conversation', tab1), ('Database', tab2),\n",
                "            ('Chat History', tab3), ('Configure', tab4))\n",
                ")\n",
                "dashboard"
            ],
            "execution_count": null,
            "outputs": []
        }
    ],
    "metadata": {
        "kernelspec": {
            "name": "python3",
            "language": "python",
            "display_name": "Python 3 (ipykernel)"
        }
    },
    "nbformat": 4,
    "nbformat_minor": 4
}