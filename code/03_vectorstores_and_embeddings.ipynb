{
    "cells": [
        {
            "cell_type": "markdown",
            "metadata": {},
            "source": [
                "# Vectorstores and Embeddings\n",
                "\n",
                "Dive into the concept of embeddings and explore vector store integrations within LangChain.\n",
                "\n",
                "# Setup\n",
                "\n",
                "## Python"
            ]
        },
        {
            "cell_type": "code",
            "metadata": {
                "height": 166,
                "tags": []
            },
            "source": [
                "import os\n",
                "import numpy as np\n",
                "import openai\n",
                "from langchain.document_loaders import PyPDFLoader\n",
                "from langchain.text_splitter import RecursiveCharacterTextSplitter\n",
                "from langchain.embeddings.openai import OpenAIEmbeddings\n",
                "from langchain.vectorstores import Chroma\n",
                "\n",
                "\n",
                "#import sys\n",
                "#sys.path.append('../..')\n",
                "\n",
                "from dotenv import load_dotenv, find_dotenv\n",
                "_ = load_dotenv(find_dotenv()) # read local .env file\n",
                "\n",
                "openai.api_key  = os.environ['OPENAI_API_KEY']"
            ],
            "execution_count": null,
            "outputs": []
        },
        {
            "cell_type": "markdown",
            "metadata": {},
            "source": [
                "# Loading and Splitting\n",
                "\n",
                "## Load data\n"
            ]
        },
        {
            "cell_type": "code",
            "metadata": {},
            "source": [
                "# Load PDF\n",
                "loaders = [\n",
                "    # Duplicate documents on purpose - messy data\n",
                "    PyPDFLoader(\"../docs/cs229_lectures/MachineLearning-Lecture01.pdf\"),\n",
                "    PyPDFLoader(\"../docs/cs229_lectures/MachineLearning-Lecture01.pdf\"),\n",
                "    PyPDFLoader(\"../docs/cs229_lectures/MachineLearning-Lecture02.pdf\"),\n",
                "    PyPDFLoader(\"../docs/cs229_lectures/MachineLearning-Lecture03.pdf\")\n",
                "]\n",
                "\n",
                "docs = []\n",
                "for loader in loaders:\n",
                "    docs.extend(loader.load())"
            ],
            "execution_count": null,
            "outputs": []
        },
        {
            "cell_type": "markdown",
            "metadata": {},
            "source": [
                "## Define splitter "
            ]
        },
        {
            "cell_type": "code",
            "metadata": {},
            "source": [
                "text_splitter = RecursiveCharacterTextSplitter(\n",
                "    chunk_size = 1500,\n",
                "    chunk_overlap = 150\n",
                ")"
            ],
            "execution_count": null,
            "outputs": []
        },
        {
            "cell_type": "markdown",
            "metadata": {},
            "source": [
                "## Split data"
            ]
        },
        {
            "cell_type": "code",
            "metadata": {},
            "source": [
                "splits = text_splitter.split_documents(docs)"
            ],
            "execution_count": null,
            "outputs": []
        },
        {
            "cell_type": "markdown",
            "metadata": {},
            "source": [
                ""
            ]
        },
        {
            "cell_type": "code",
            "metadata": {},
            "source": [
                "len(splits)"
            ],
            "execution_count": null,
            "outputs": []
        },
        {
            "cell_type": "markdown",
            "metadata": {},
            "source": [
                "- 209\n",
                "\n",
                "# Embeddings\n",
                "\n",
                "## OpenAIEmbeddings\n",
                "\n",
                "- Let's take our splits and embed them.\n",
                "\n",
                ""
            ]
        },
        {
            "cell_type": "code",
            "metadata": {},
            "source": [
                "embedding = OpenAIEmbeddings()"
            ],
            "execution_count": null,
            "outputs": []
        },
        {
            "cell_type": "markdown",
            "metadata": {},
            "source": [
                "## Examples"
            ]
        },
        {
            "cell_type": "code",
            "metadata": {},
            "source": [
                "sentence1 = \"i like dogs\"\n",
                "sentence2 = \"i like canines\"\n",
                "sentence3 = \"the weather is ugly outside\""
            ],
            "execution_count": null,
            "outputs": []
        },
        {
            "cell_type": "markdown",
            "metadata": {},
            "source": [
                ""
            ]
        },
        {
            "cell_type": "code",
            "metadata": {},
            "source": [
                "embedding1 = embedding.embed_query(sentence1)\n",
                "embedding2 = embedding.embed_query(sentence2)\n",
                "embedding3 = embedding.embed_query(sentence3)"
            ],
            "execution_count": null,
            "outputs": []
        },
        {
            "cell_type": "markdown",
            "metadata": {},
            "source": [
                "## Compare similarity"
            ]
        },
        {
            "cell_type": "code",
            "metadata": {},
            "source": [
                "np.dot(embedding1, embedding2)"
            ],
            "execution_count": null,
            "outputs": []
        },
        {
            "cell_type": "markdown",
            "metadata": {},
            "source": [
                "- 0.9631851837941705\n",
                "\n",
                ""
            ]
        },
        {
            "cell_type": "code",
            "metadata": {},
            "source": [
                "np.dot(embedding1, embedding3)"
            ],
            "execution_count": null,
            "outputs": []
        },
        {
            "cell_type": "markdown",
            "metadata": {},
            "source": [
                "- 0.7710851013557284\n",
                "\n",
                ""
            ]
        },
        {
            "cell_type": "code",
            "metadata": {},
            "source": [
                "np.dot(embedding2, embedding3)"
            ],
            "execution_count": null,
            "outputs": []
        },
        {
            "cell_type": "markdown",
            "metadata": {},
            "source": [
                "- 0.7596334120325541\n",
                "\n",
                "# Chroma Vectorstore\n",
                "\n",
                "## Setup"
            ]
        },
        {
            "cell_type": "code",
            "metadata": {},
            "source": [
                "persist_directory = '../docs/chroma/'"
            ],
            "execution_count": null,
            "outputs": []
        },
        {
            "cell_type": "markdown",
            "metadata": {},
            "source": [
                ""
            ]
        },
        {
            "cell_type": "code",
            "metadata": {},
            "source": [
                "!rm -rf ../docs/chroma  # remove old database files if any"
            ],
            "execution_count": null,
            "outputs": []
        },
        {
            "cell_type": "markdown",
            "metadata": {},
            "source": [
                "## Store data"
            ]
        },
        {
            "cell_type": "code",
            "metadata": {},
            "source": [
                "vectordb = Chroma.from_documents(\n",
                "    documents=splits,\n",
                "    embedding=embedding,\n",
                "    persist_directory=persist_directory\n",
                ")"
            ],
            "execution_count": null,
            "outputs": []
        },
        {
            "cell_type": "markdown",
            "metadata": {},
            "source": [
                "## Inspect data"
            ]
        },
        {
            "cell_type": "code",
            "metadata": {},
            "source": [
                "print(vectordb._collection.count())"
            ],
            "execution_count": null,
            "outputs": []
        },
        {
            "cell_type": "markdown",
            "metadata": {},
            "source": [
                "- 209\n",
                "\n",
                "# Similarity Search\n",
                "\n",
                "## Search vectorstore for email"
            ]
        },
        {
            "cell_type": "code",
            "metadata": {},
            "source": [
                "question = \"is there an email i can ask for help\""
            ],
            "execution_count": null,
            "outputs": []
        },
        {
            "cell_type": "markdown",
            "metadata": {},
            "source": [
                ""
            ]
        },
        {
            "cell_type": "code",
            "metadata": {},
            "source": [
                "docs = vectordb.similarity_search(question,k=3)"
            ],
            "execution_count": null,
            "outputs": []
        },
        {
            "cell_type": "markdown",
            "metadata": {},
            "source": [
                ""
            ]
        },
        {
            "cell_type": "code",
            "metadata": {},
            "source": [
                "len(docs)"
            ],
            "execution_count": null,
            "outputs": []
        },
        {
            "cell_type": "markdown",
            "metadata": {},
            "source": [
                "- 3\n",
                "\n",
                "## Inspect data"
            ]
        },
        {
            "cell_type": "code",
            "metadata": {},
            "source": [
                "docs[0].page_content"
            ],
            "execution_count": null,
            "outputs": []
        },
        {
            "cell_type": "markdown",
            "metadata": {},
            "source": [
                "- \"cs229-qa@cs.stanford.edu. This goes to an acc ount that's read by all the TAs and me. So \\nrather than sending us email individually, if you send email to this account, it will \\nactually let us get back to you maximally quickly with answers to your questions.  \\nIf you're asking questions about homework probl ems, please say in the subject line which \\nassignment and which question the email refers to, since that will also help us to route \\nyour question to the appropriate TA or to me  appropriately and get the response back to \\nyou quickly.  \\nLet's see. Skipping ahead — let's see — for homework, one midterm, one open and term \\nproject. Notice on the honor code. So one thi ng that I think will help you to succeed and \\ndo well in this class and even help you to enjoy this cla ss more is if you form a study \\ngroup.  \\nSo start looking around where you' re sitting now or at the end of class today, mingle a \\nlittle bit and get to know your classmates. I strongly encourage you to form study groups \\nand sort of have a group of people to study with and have a group of your fellow students \\nto talk over these concepts with. You can also  post on the class news group if you want to \\nuse that to try to form a study group.  \\nBut some of the problems sets in this cla ss are reasonably difficult.  People that have \\ntaken the class before may tell you they were very difficult. And just I bet it would be \\nmore fun for you, and you'd probably have a be tter learning experience if you form a\"\n",
                "\n",
                "\n",
                "## Persist data\n",
                "\n",
                "- Let's save this so we can use it later!\n",
                "\n",
                ""
            ]
        },
        {
            "cell_type": "code",
            "metadata": {},
            "source": [
                "vectordb.persist()"
            ],
            "execution_count": null,
            "outputs": []
        },
        {
            "cell_type": "markdown",
            "metadata": {},
            "source": [
                "# Failure modes\n",
                "\n",
                "## Basics\n",
                "\n",
                "- This seems great, and basic similarity search will get you 80% of the way there very easily. \n",
                "\n",
                "- But there are some failure modes that can creep up. \n",
                "\n",
                "- Here are some edge cases that can arise \n",
                "\n",
                "## Search vectorstore for matlab"
            ]
        },
        {
            "cell_type": "code",
            "metadata": {},
            "source": [
                "question = \"what did they say about matlab?\""
            ],
            "execution_count": null,
            "outputs": []
        },
        {
            "cell_type": "markdown",
            "metadata": {},
            "source": [
                ""
            ]
        },
        {
            "cell_type": "code",
            "metadata": {},
            "source": [
                "docs = vectordb.similarity_search(question,k=5)"
            ],
            "execution_count": null,
            "outputs": []
        },
        {
            "cell_type": "markdown",
            "metadata": {},
            "source": [
                "## Inspect data {.smaller}"
            ]
        },
        {
            "cell_type": "code",
            "metadata": {},
            "source": [
                "docs[0]"
            ],
            "execution_count": null,
            "outputs": []
        },
        {
            "cell_type": "markdown",
            "metadata": {},
            "source": [
                "- Document(page_content='those homeworks will be done in either MATLA B or in Octave, which is sort of — I \\nknow some people call it a free ve rsion of MATLAB, which it sort  of is, sort of isn\\'t.  \\nSo I guess for those of you that haven\\'t s een MATLAB before, and I know most of you \\nhave, MATLAB is I guess part of the programming language that makes it very easy to write codes using matrices, to write code for numerical routines, to move data around, to \\nplot data. And it\\'s sort of an extremely easy to  learn tool to use for implementing a lot of \\nlearning algorithms.  \\nAnd in case some of you want to work on your  own home computer or something if you \\ndon\\'t have a MATLAB license, for the purposes of  this class, there\\'s also — [inaudible] \\nwrite that down [inaudible] MATLAB — there\\' s also a software package called Octave \\nthat you can download for free off the Internet. And it has somewhat fewer features than MATLAB, but it\\'s free, and for the purposes of  this class, it will work for just about \\neverything.  \\nSo actually I, well, so yeah, just a side comment for those of you that haven\\'t seen \\nMATLAB before I guess, once a colleague of mine at a different university, not at \\nStanford, actually teaches another machine l earning course. He\\'s taught it for many years. \\nSo one day, he was in his office, and an old student of his from, lik e, ten years ago came \\ninto his office and he said, \"Oh, professo r, professor, thank you so much for your', metadata={'source': '../docs/cs229_lectures/MachineLearning-Lecture01.pdf', 'page': 8})"
            ]
        },
        {
            "cell_type": "code",
            "metadata": {},
            "source": [
                "docs[1]"
            ],
            "execution_count": null,
            "outputs": []
        },
        {
            "cell_type": "markdown",
            "metadata": {},
            "source": [
                "- Document(page_content='those homeworks will be done in either MATLA B or in Octave, which is sort of — I \\nknow some people call it a free ve rsion of MATLAB, which it sort  of is, sort of isn\\'t.  \\nSo I guess for those of you that haven\\'t s een MATLAB before, and I know most of you \\nhave, MATLAB is I guess part of the programming language that makes it very easy to write codes using matrices, to write code for numerical routines, to move data around, to \\nplot data. And it\\'s sort of an extremely easy to  learn tool to use for implementing a lot of \\nlearning algorithms.  \\nAnd in case some of you want to work on your  own home computer or something if you \\ndon\\'t have a MATLAB license, for the purposes of  this class, there\\'s also — [inaudible] \\nwrite that down [inaudible] MATLAB — there\\' s also a software package called Octave \\nthat you can download for free off the Internet. And it has somewhat fewer features than MATLAB, but it\\'s free, and for the purposes of  this class, it will work for just about \\neverything.  \\nSo actually I, well, so yeah, just a side comment for those of you that haven\\'t seen \\nMATLAB before I guess, once a colleague of mine at a different university, not at \\nStanford, actually teaches another machine l earning course. He\\'s taught it for many years. \\nSo one day, he was in his office, and an old student of his from, lik e, ten years ago came \\ninto his office and he said, \"Oh, professo r, professor, thank you so much for your', metadata={'source': '../docs/cs229_lectures/MachineLearning-Lecture01.pdf', 'page': 8})\n",
                "\n",
                "## Insights\n",
                "\n",
                "- Notice that we're getting duplicate chunks (because of the duplicate `MachineLearning-Lecture01.pdf` in the index).\n",
                "\n",
                "- Semantic search fetches all similar documents, but does not enforce diversity.\n",
                "\n",
                "- `docs[0]` and `docs[1]` are indentical.\n",
                "\n",
                "## Search vectorstore for third lecture\n"
            ]
        },
        {
            "cell_type": "code",
            "metadata": {},
            "source": [
                "question = \"what did they say about regression in the third lecture?\""
            ],
            "execution_count": null,
            "outputs": []
        },
        {
            "cell_type": "markdown",
            "metadata": {},
            "source": [
                ""
            ]
        },
        {
            "cell_type": "code",
            "metadata": {},
            "source": [
                "docs = vectordb.similarity_search(question,k=5)"
            ],
            "execution_count": null,
            "outputs": []
        },
        {
            "cell_type": "markdown",
            "metadata": {},
            "source": [
                "## Inspect data {.smaller}"
            ]
        },
        {
            "cell_type": "code",
            "metadata": {},
            "source": [
                "for doc in docs:\n",
                "    print(doc.metadata)"
            ],
            "execution_count": null,
            "outputs": []
        },
        {
            "cell_type": "markdown",
            "metadata": {},
            "source": [
                ""
            ]
        },
        {
            "cell_type": "code",
            "metadata": {},
            "source": [
                "{'source': '../docs/cs229_lectures/MachineLearning-Lecture03.pdf', 'page': 0}\n",
                "{'source': '../docs/cs229_lectures/MachineLearning-Lecture03.pdf', 'page': 14}\n",
                "{'source': '../docs/cs229_lectures/MachineLearning-Lecture02.pdf', 'page': 0}\n",
                "{'source': '../docs/cs229_lectures/MachineLearning-Lecture03.pdf', 'page': 6}\n",
                "{'source': '../docs/cs229_lectures/MachineLearning-Lecture01.pdf', 'page': 8}"
            ],
            "execution_count": null,
            "outputs": []
        }
    ],
    "metadata": {
        "kernelspec": {
            "name": "python3",
            "language": "python",
            "display_name": "Python 3 (ipykernel)"
        }
    },
    "nbformat": 4,
    "nbformat_minor": 4
}