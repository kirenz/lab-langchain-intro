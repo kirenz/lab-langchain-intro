{
    "cells": [
        {
            "cell_type": "markdown",
            "metadata": {},
            "source": [
                "# Question Answering\n",
                "\n",
                "\n",
                "# Setup\n",
                "\n",
                "## Python\n"
            ]
        },
        {
            "cell_type": "code",
            "metadata": {},
            "source": [
                "from langchain.prompts import PromptTemplate\n",
                "from langchain.chains import RetrievalQA\n",
                "from langchain.chat_models import ChatOpenAI\n",
                "from langchain.embeddings.openai import OpenAIEmbeddings\n",
                "from langchain.vectorstores import Chroma\n",
                "import datetime\n",
                "from dotenv import load_dotenv, find_dotenv\n",
                "import os\n",
                "import openai\n",
                "# import sys\n",
                "# sys.path.append('../..')\n",
                "\n",
                "_ = load_dotenv(find_dotenv())  # read local .env file\n",
                "\n",
                "openai.api_key = os.environ['OPENAI_API_KEY']"
            ],
            "execution_count": null,
            "outputs": []
        },
        {
            "cell_type": "markdown",
            "metadata": {},
            "source": [
                "# RetrievalQA chain\n",
                "\n",
                "## Vector Database setup"
            ]
        },
        {
            "cell_type": "code",
            "metadata": {},
            "source": [
                "persist_directory = '../docs/chroma/'\n",
                "embedding = OpenAIEmbeddings()\n",
                "vectordb = Chroma(persist_directory=persist_directory,\n",
                "                  embedding_function=embedding)"
            ],
            "execution_count": null,
            "outputs": []
        },
        {
            "cell_type": "code",
            "metadata": {},
            "source": [
                "print(vectordb._collection.count())"
            ],
            "execution_count": null,
            "outputs": []
        },
        {
            "cell_type": "markdown",
            "metadata": {},
            "source": [
                "- 209\n",
                "\n",
                "## Question and similarity search"
            ]
        },
        {
            "cell_type": "code",
            "metadata": {},
            "source": [
                "question = \"What are major topics for this class?\"\n",
                "\n",
                "docs = vectordb.similarity_search(question, k=3)\n",
                "\n",
                "len(docs)"
            ],
            "execution_count": null,
            "outputs": []
        },
        {
            "cell_type": "markdown",
            "metadata": {},
            "source": [
                "- 3\n",
                "\n",
                "## ChatOpenAI model"
            ]
        },
        {
            "cell_type": "code",
            "metadata": {},
            "source": [
                "llm_name = \"gpt-3.5-turbo\"\n",
                "\n",
                "llm = ChatOpenAI(model_name=llm_name, temperature=0)"
            ],
            "execution_count": null,
            "outputs": []
        },
        {
            "cell_type": "markdown",
            "metadata": {},
            "source": [
                "## RetrievalQA chain"
            ]
        },
        {
            "cell_type": "code",
            "metadata": {},
            "source": [
                "qa_chain = RetrievalQA.from_chain_type(\n",
                "    llm,\n",
                "    retriever=vectordb.as_retriever()\n",
                ")"
            ],
            "execution_count": null,
            "outputs": []
        },
        {
            "cell_type": "markdown",
            "metadata": {},
            "source": [
                "## Result"
            ]
        },
        {
            "cell_type": "code",
            "metadata": {},
            "source": [
                "result = qa_chain({\"query\": question})"
            ],
            "execution_count": null,
            "outputs": []
        },
        {
            "cell_type": "markdown",
            "metadata": {},
            "source": [
                " "
            ]
        },
        {
            "cell_type": "code",
            "metadata": {},
            "source": [
                "result[\"result\"]"
            ],
            "execution_count": null,
            "outputs": []
        },
        {
            "cell_type": "markdown",
            "metadata": {},
            "source": [
                "- 'The major topics for this class are machine learning and its various extensions.'\n",
                "\n",
                "# RetrievalQA chain with Template\n",
                "\n",
                "## Prompt template"
            ]
        },
        {
            "cell_type": "code",
            "metadata": {},
            "source": [
                "template = \"\"\"Use the following pieces of context to answer the question at the end. If you don't know the answer, just say that you don't know, don't try to make up an answer. Use three sentences maximum. Keep the answer as concise as possible. Always say \"thanks for asking!\" at the end of the answer. \n",
                "{context}\n",
                "Question: {question}\n",
                "Helpful Answer:\"\"\"\n",
                "\n",
                "QA_CHAIN_PROMPT = PromptTemplate.from_template(template)"
            ],
            "execution_count": null,
            "outputs": []
        },
        {
            "cell_type": "markdown",
            "metadata": {},
            "source": [
                "## Question answer chain \n"
            ]
        },
        {
            "cell_type": "code",
            "metadata": {},
            "source": [
                "qa_chain = RetrievalQA.from_chain_type(\n",
                "    llm,\n",
                "    retriever=vectordb.as_retriever(),\n",
                "    return_source_documents=True,\n",
                "    chain_type_kwargs={\"prompt\": QA_CHAIN_PROMPT}\n",
                ")"
            ],
            "execution_count": null,
            "outputs": []
        },
        {
            "cell_type": "markdown",
            "metadata": {},
            "source": [
                "## Question and result"
            ]
        },
        {
            "cell_type": "code",
            "metadata": {},
            "source": [
                "question = \"Is probability a class topic?\""
            ],
            "execution_count": null,
            "outputs": []
        },
        {
            "cell_type": "markdown",
            "metadata": {},
            "source": [
                ""
            ]
        },
        {
            "cell_type": "code",
            "metadata": {},
            "source": [
                "result = qa_chain({\"query\": question})"
            ],
            "execution_count": null,
            "outputs": []
        },
        {
            "cell_type": "markdown",
            "metadata": {},
            "source": [
                ""
            ]
        },
        {
            "cell_type": "code",
            "metadata": {},
            "source": [
                "result[\"result\"]"
            ],
            "execution_count": null,
            "outputs": []
        },
        {
            "cell_type": "markdown",
            "metadata": {},
            "source": [
                "- 'Yes, probability is a class topic. Thanks for asking!'\n",
                "\n",
                "## Source documents {.smaller}"
            ]
        },
        {
            "cell_type": "code",
            "metadata": {},
            "source": [
                "result[\"source_documents\"][0]"
            ],
            "execution_count": null,
            "outputs": []
        },
        {
            "cell_type": "markdown",
            "metadata": {},
            "source": [
                "- Document(page_content=\"of this class will not be very program ming intensive, although we will do some \\nprogramming, mostly in either MATLAB or Octa ve. I'll say a bit more about that later.  \\nI also assume familiarity with basic proba bility and statistics. So most undergraduate \\nstatistics class, like Stat 116 taught here at Stanford, will be more than enough. I'm gonna \\nassume all of you know what ra ndom variables are, that all of you know what expectation \\nis, what a variance or a random variable is. And in case of some of you, it's been a while \\nsince you've seen some of this material. At some of the discussion sections, we'll actually \\ngo over some of the prerequisites, sort of as  a refresher course under prerequisite class. \\nI'll say a bit more about that later as well.  \\nLastly, I also assume familiarity with basi c linear algebra. And again, most undergraduate \\nlinear algebra courses are more than enough. So if you've taken courses like Math 51, \\n103, Math 113 or CS205 at Stanford, that would be more than enough. Basically, I'm \\ngonna assume that all of you know what matrix es and vectors are, that you know how to \\nmultiply matrices and vectors and multiply matrix and matrices, that you know what a matrix inverse is. If you know what an eigenvect or of a matrix is, that'd be even better. \\nBut if you don't quite know or if you're not qu ite sure, that's fine, too. We'll go over it in \\nthe review sections.\", metadata={'source': '../docs/cs229_lectures/MachineLearning-Lecture01.pdf', 'page': 4})\n",
                "\n",
                "# RetrievalQA Chain Types\n",
                "\n",
                "## Map Reduce"
            ]
        },
        {
            "cell_type": "code",
            "metadata": {},
            "source": [
                "qa_chain_mr = RetrievalQA.from_chain_type(\n",
                "    llm,\n",
                "    retriever=vectordb.as_retriever(),\n",
                "    chain_type=\"map_reduce\"\n",
                ")"
            ],
            "execution_count": null,
            "outputs": []
        },
        {
            "cell_type": "markdown",
            "metadata": {},
            "source": [
                "## Result"
            ]
        },
        {
            "cell_type": "code",
            "metadata": {},
            "source": [
                "result = qa_chain_mr({\"query\": question})"
            ],
            "execution_count": null,
            "outputs": []
        },
        {
            "cell_type": "markdown",
            "metadata": {},
            "source": [
                ""
            ]
        },
        {
            "cell_type": "code",
            "metadata": {},
            "source": [
                "result[\"result\"]"
            ],
            "execution_count": null,
            "outputs": []
        },
        {
            "cell_type": "markdown",
            "metadata": {},
            "source": [
                "- 'There is no mention of probability as a class topic in the provided text.'\n",
                "\n",
                "# LangChain plus platform\n",
                "\n",
                "## Basics\n",
                "\n",
                "- If you wish to experiment on the `LangChain plus platform`:\n",
                "  - Go to [langchain plus platform](https://www.langchain.plus/) and sign up\n",
                "  - Create an API key from your account's settings\n",
                "  - Use this API key in the code below   \n",
                "  - uncomment the code  \n",
                "\n",
                "## Code"
            ]
        },
        {
            "cell_type": "code",
            "metadata": {},
            "source": [
                "# os.environ[\"LANGCHAIN_TRACING_V2\"] = \"true\"\n",
                "# os.environ[\"LANGCHAIN_ENDPOINT\"] = \"https://api.langchain.plus\"\n",
                "# os.environ[\"LANGCHAIN_API_KEY\"] = \"...\"  # replace dots with your api key"
            ],
            "execution_count": null,
            "outputs": []
        },
        {
            "cell_type": "code",
            "metadata": {},
            "source": [
                "# qa_chain_mr = RetrievalQA.from_chain_type(\n",
                "#     llm,\n",
                "#     retriever=vectordb.as_retriever(),\n",
                "#     chain_type=\"map_reduce\"\n",
                "# )\n",
                "# result = qa_chain_mr({\"query\": question})\n",
                "# result[\"result\"]"
            ],
            "execution_count": null,
            "outputs": []
        },
        {
            "cell_type": "code",
            "metadata": {},
            "source": [
                "# qa_chain_mr = RetrievalQA.from_chain_type(\n",
                "#     llm,\n",
                "#     retriever=vectordb.as_retriever(),\n",
                "#     chain_type=\"refine\"\n",
                "# )\n",
                "# result = qa_chain_mr({\"query\": question})\n",
                "# result[\"result\"]"
            ],
            "execution_count": null,
            "outputs": []
        },
        {
            "cell_type": "markdown",
            "metadata": {},
            "source": [
                "# RetrievalQA Limitations\n",
                " \n",
                "## Conversational history\n",
                "\n",
                "- QA fails to preserve conversational history."
            ]
        },
        {
            "cell_type": "code",
            "metadata": {},
            "source": [
                "qa_chain = RetrievalQA.from_chain_type(\n",
                "    llm,\n",
                "    retriever=vectordb.as_retriever()\n",
                ")"
            ],
            "execution_count": null,
            "outputs": []
        },
        {
            "cell_type": "markdown",
            "metadata": {},
            "source": [
                ""
            ]
        },
        {
            "cell_type": "code",
            "metadata": {},
            "source": [
                "question = \"Is probability a class topic?\"\n",
                "result = qa_chain({\"query\": question})\n",
                "result[\"result\"]"
            ],
            "execution_count": null,
            "outputs": []
        },
        {
            "cell_type": "markdown",
            "metadata": {},
            "source": [
                "- 'Yes, probability is a topic that will be covered in this class. The instructor assumes familiarity with basic probability and statistics.'\n",
                "\n",
                "## Conversational history {.smaller}\n"
            ]
        },
        {
            "cell_type": "code",
            "metadata": {},
            "source": [
                "question = \"why are those prerequesites needed?\"\n",
                "result = qa_chain({\"query\": question})\n",
                "result[\"result\"]"
            ],
            "execution_count": null,
            "outputs": []
        }
    ],
    "metadata": {
        "kernelspec": {
            "name": "python3",
            "language": "python",
            "display_name": "Python 3 (ipykernel)"
        }
    },
    "nbformat": 4,
    "nbformat_minor": 4
}